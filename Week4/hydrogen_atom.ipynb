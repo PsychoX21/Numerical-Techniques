{
  "cells": [
    {
      "cell_type": "markdown",
      "metadata": {
        "id": "c0R8hXUD6eFn"
      },
      "source": [
        "The Hamiltonian for a system of an electron and a proton is:\n",
        "\n",
        "$$\\hat{H}_{total} = -\\frac{\\hbar^2}{2m_p}\\nabla^2_p + -\\frac{\\hbar^2}{2m_e}\\nabla^2_e + \\frac{e^2}{4 \\pi \\varepsilon_0 |\\vec{r}_1 - \\vec{r}_2|}$$"
      ]
    },
    {
      "cell_type": "markdown",
      "metadata": {
        "id": "D57hVj_c6eFq"
      },
      "source": [
        "# Eigenstates of the System\n",
        "Which we will, of course, put in the Time-Independent Schrodinger Equation:\n",
        "\n",
        "$$\\hat{H} \\Psi(\\vec{r}_1, \\vec{r}_2, t) = E \\Psi(\\vec{r}_1, \\vec{r}_2, t)\\\\\n",
        "%\\implies E_k \\Psi_k(\\vec{r}_1, \\vec{r}_2, t) = \\hat{H} \\Psi_k(\\vec{r}_1, \\vec{r}_2, t)$$\n",
        "\n",
        "However, we will simplify the situation first. The first thing you might have noticed is that for a two-particle system, the wavefunction depends on two coordinates, and this in fact extends the interpretation of $\\Psi^2$ for a one-particle system (which was just the propability amplitude for finding the particle at that particular position), to being \"the probability of finding particle 1 at $\\vec{r}_1$ and particle 2 at $\\vec{r_2}$\". This is clearly something interesting, but we'll ignore two particle wavefunctions for now and focus on converting our problem to that of a one-particle wavefunction.\n",
        "\n",
        "Another problem with two or more particles being simulated is that the Schrodinger equation just does not take spin into account, and spin is quite important for simulating multiparticle systems. We can't even simulate the hydrogen molecule $\\text{H}_2$ without spin; the Schrodinger equation - if spin is not incorporated - predicts that hydrogen molecules can't exist (!) due to the fermionic interaction between the two atomic electrons. Specifically, the second electron is stuck in the higher energy non-bonding orbital $\\sigma^\\ast_{1s}$, and thus there is minimal energy change from the free atom case."
      ]
    },
    {
      "cell_type": "markdown",
      "metadata": {
        "id": "BsGZFwI16eFq"
      },
      "source": [
        "We apply the coordinate transformation to center of mass of coordinates, upon which we get the following Hamiltonian:\n",
        "\n",
        "$$\\hat{H}_{\\text{CoM}}= -\\frac{\\hbar^2}{2\\mu}\\nabla_R^2-\\frac{\\hbar^2}{2\\mu}\\nabla_r^2 - \\frac{e^2}{4 \\pi \\varepsilon_0 |\\vec{r}|}$$\n",
        "\n",
        "Where $\\mu = \\frac{m_p m_e}{m_p + m_e}$, $\\vec{R} = \\frac{m_e \\vec{r_e} + m_p \\vec{r_p}}{m_e + m_p}$ are the CoM coordiantes, and $\\vec{r} = \\vec{r_e} - \\vec{r_p}$ is the displacement vector from one particle to the other. Either sign works. Refer to CH107 from first year for the details. Thus our Hamiltonian is separated into free-particle Hamiltonian on the COM and a one-particle Hamiltonian in a Coulombic potential. We are interested in the second part.\n",
        "\n",
        "## Question 1\n",
        "Expand the second part of the Hamiltonian, the one acting on the displacement vector $\\vec{r} = (x,y,z)$, in Cartesian coordinates."
      ]
    },
    {
      "cell_type": "markdown",
      "metadata": {
        "id": "9_aAHnezljhv"
      },
      "source": [
        "$$\n",
        "\\hat{H} = -\\frac{\\hbar^2}{2\\mu} \\left( \\frac{\\partial^2}{\\partial x^2} + \\frac{\\partial^2}{\\partial y^2} + \\frac{\\partial^2}{\\partial z^2} \\right) - \\frac{e^2}{4\\pi\\epsilon_0 \\sqrt{x^2 + y^2 + z^2}}.\n",
        "$$"
      ]
    },
    {
      "cell_type": "markdown",
      "metadata": {
        "id": "BdjdXfmU6eFr"
      },
      "source": [
        "# Numerical Solution\n",
        "Here's how we are going to solve this numerically:\n",
        "\n",
        "Using the finite-difference method, we discretize the left side of the equation so that the partial derivative terms get converted into terms involving the value of $\\psi$ at a coordinate _and_ its neighoring coordinates."
      ]
    },
    {
      "cell_type": "markdown",
      "metadata": {
        "id": "CRd-fAWm6eFr"
      },
      "source": [
        "## Question 2\n",
        "Discretize the Schrodinger Equation using Cartesian coordinates. Consider a spacing between the points of $\\Delta x$ for all axes."
      ]
    },
    {
      "cell_type": "markdown",
      "metadata": {
        "id": "7DwCwrY46eFr"
      },
      "source": [
        "We can actually use this discretized form of the right hand side to compute the energy eigenstates and eigenvalues of the electron in this hydrogen atom model, which should give us the familiar orbitals of a hydrogen atom. Let's try that first!\n",
        "\n",
        "All we need to do is to construct the Hamiltonian matrix by first flattening the possible coordinates of psi and then constructing the operator matrix that gives us the left hand side of the equation. Then we use an eigensolver algorithm for the operator matrix to obtain the eigenvectors and eigenvalues."
      ]
    },
    {
      "cell_type": "markdown",
      "metadata": {
        "id": "mmO48qNDoRsz"
      },
      "source": [
        "Step 1 : Let us create the Hamiltonian operator and all the other tools we will need."
      ]
    },
    {
      "cell_type": "code",
      "execution_count": null,
      "metadata": {
        "id": "sb18uIPR6eFs"
      },
      "outputs": [],
      "source": [
        "#importing standard data science libraries\n",
        "import numpy as np\n",
        "import pandas as pd\n",
        "import matplotlib.pyplot as plt\n",
        "from math import *"
      ]
    },
    {
      "cell_type": "code",
      "execution_count": null,
      "metadata": {
        "id": "hKqFMvTXnAyz"
      },
      "outputs": [],
      "source": [
        "from scipy.constants import hbar, e, m_e, m_p, epsilon_0, pi\n",
        "from scipy.sparse import diags, csr_matrix\n",
        "\n",
        "mu = m_e*m_p/(m_e+m_p)\n",
        "\n",
        "L = 1e-9\n",
        "N = 50\n",
        "dx = L/N\n",
        "\n",
        "x = np.linspace(-L/2, L/2, N)\n",
        "y = np.linspace(-L/2, L/2, N)\n",
        "z = np.linspace(-L/2, L/2, N)\n",
        "\n",
        "X, Y, Z = np.meshgrid(x, y, z, indexing='ij')\n",
        "r = np.sqrt(X**2 + Y**2 + Z**2)\n",
        "r[r==0] = dx/10\n",
        "V = -e**2 / (4 * np.pi * epsilon_0 * r)\n",
        "V_flat = V.flatten()\n",
        "H_potential = diags(V_flat, 0, format=\"csr\")\n",
        "\n",
        "def laplacian_3d(n, m, l):\n",
        "    S = n * m * l\n",
        "\n",
        "    row_indices = []\n",
        "    col_indices = []\n",
        "    data = []\n",
        "\n",
        "    for i in range(S):\n",
        "        x, y, z = i % n, (i // n) % m, (i // (n * m)) % l\n",
        "\n",
        "        row_indices.append(i)\n",
        "        col_indices.append(i)\n",
        "        data.append(-6)\n",
        "\n",
        "        neighbors = [(x + 1, y, z), (x - 1, y, z), (x, y + 1, z), (x, y - 1, z), (x, y, z + 1), (x, y, z - 1)]\n",
        "        for nx, ny, nz in neighbors:\n",
        "            if 0 <= nx < n and 0 <= ny < m and 0 <= nz < l:\n",
        "                j = nx + n * ny + n * m * nz\n",
        "                row_indices.append(i)\n",
        "                col_indices.append(j)\n",
        "                data.append(1)\n",
        "\n",
        "    laplacian = csr_matrix((data, (row_indices, col_indices)), shape=(S, S))\n",
        "    return laplacian\n",
        "\n",
        "H_kinetic = -hbar**2 / (2 * mu * (dx**2)) * laplacian_3d(N, N, N)\n",
        "\n",
        "H = H_kinetic + H_potential"
      ]
    },
    {
      "cell_type": "code",
      "execution_count": null,
      "metadata": {
        "colab": {
          "base_uri": "https://localhost:8080/"
        },
        "id": "id36fBSwZE3j",
        "outputId": "ad7081ce-a78f-4c93-b13b-f0417a845287"
      },
      "outputs": [
        {
          "output_type": "stream",
          "name": "stdout",
          "text": [
            "Eigenvalues (energy levels): [-12.65914586  -3.17998642  -3.17998642  -3.17998642  -3.02066084\n",
            "  -0.67794708  -0.67794708  -0.33588614  -0.33588614   0.33187595]\n"
          ]
        }
      ],
      "source": [
        "from scipy.sparse.linalg import eigs\n",
        "\n",
        "num_eigenvalues = 10\n",
        "eigenvalues, eigenvectors = eigs(H, k=num_eigenvalues, which='SR')  # Smallest Real\n",
        "eigenvalues = np.sort(np.real(eigenvalues))\n",
        "\n",
        "print(\"Eigenvalues (energy levels):\", eigenvalues/e)"
      ]
    },
    {
      "cell_type": "markdown",
      "metadata": {
        "id": "sF3caLBBVYqJ"
      },
      "source": [
        "## Question 3: Constructing the Hamiltonian Operator\n",
        "Recall the method of converting the discretized version of the laplacian operator into a 2D matrix, and apply the same technique for the discretized version of the hamiltonian operator. Construct the hamiltonian matrix within `get_hamiltonian`. Also fill in the helper functions `index3d_to_flat`, `flat_to_index3d`, and `index3d_to_coords`."
      ]
    },
    {
      "cell_type": "code",
      "execution_count": null,
      "metadata": {
        "id": "saMFpiWl6eFt"
      },
      "outputs": [],
      "source": [
        "import scipy.sparse as sp\n",
        "from scipy.constants import hbar, e, m_e, m_p, epsilon_0, pi\n",
        "\n",
        "#reduced mass\n",
        "mu = m_e*m_p/(m_e+m_p)\n",
        "\n",
        "N = 100\n",
        "Delta_x = 2e-9/N # our boundary width is 1e-8 m\n",
        "\n",
        "def index3d_to_flat(i,j,k):\n",
        "    '''Write a function that converts the i,j,k integer coordinates of the unflattened psi array\n",
        "       into the appropriate flattened index\n",
        "    '''\n",
        "    return int(i + N * j + N * N * k)\n",
        "\n",
        "def flat_to_index3d(flat_index):\n",
        "    '''Now write a function to do the reverse. Remember the limits on the coords\n",
        "       i.e. 0 <= i,j,k < N. Base N if you prefer that.\n",
        "    '''\n",
        "    i = flat_index % N\n",
        "    j = (flat_index // N) % N\n",
        "    k = flat_index // (N * N)\n",
        "    return i, j, k\n",
        "\n",
        "def index3d_to_coords(i,j,k):\n",
        "    '''Now we transform the coords to real space coordinate. Remember to incorporate\n",
        "       the scaling factor\n",
        "    '''\n",
        "    x = (i - (N - 1) / 2) * Delta_x\n",
        "    y = (j - (N - 1) / 2) * Delta_x\n",
        "    z = (k - (N - 1) / 2) * Delta_x\n",
        "    return x, y, z\n",
        "\n",
        "# Define the position of the proton/central position, depends if you are taking\n",
        "# an approximation point of view or proper CoM transformation\n",
        "proton_position = index3d_to_coords((N - 1)/2.0, (N - 1)/2.0, (N - 1)/2.0)\n",
        "# Or you can remove this and implicitly assume an appropriate position below\n",
        "\n",
        "############################################################################################################################################################\n",
        "\n",
        "hamiltonian = sp.lil_matrix((N**3, N**3), dtype=np.cfloat) # create a sparse matrix\n",
        "\n",
        "def get_hamiltonian(matrix, N, Delta_x):\n",
        "    T_factor = -(hbar**2)/(2*mu*(Delta_x**2)*e)\n",
        "    V_factor = e/(4*pi*epsilon_0)\n",
        "    '''Initialize the matrix elements appropriately.\n",
        "       Since the matrix is going to be large, we have already taken it to be sparse.\n",
        "       No need to set any 0 elements.\n",
        "    '''\n",
        "    for i in range(N):\n",
        "        for j in range(N):\n",
        "            for k in range(N):\n",
        "                flat_index = index3d_to_flat(i, j, k)\n",
        "                x, y, z = index3d_to_coords(i, j, k)\n",
        "\n",
        "                r = np.sqrt(x**2 + y**2 + z**2)\n",
        "                if r == 0: r = Delta_x / 10\n",
        "\n",
        "                V = -V_factor / r\n",
        "\n",
        "                matrix[flat_index, flat_index] = T_factor * (-6) + V\n",
        "                neighbors = [(i + 1, j, k), (i - 1, j, k), (i, j + 1, k), (i, j - 1, k), (i, j, k + 1), (i, j, k - 1)]\n",
        "                for ni, nj, nk in neighbors:\n",
        "                    if 0 <= ni < N and 0 <= nj < N and 0 <= nk < N:\n",
        "                        n_flat_index = index3d_to_flat(ni, nj, nk)\n",
        "                        matrix[flat_index, n_flat_index] = T_factor\n",
        "\n",
        "    return matrix\n",
        "\n",
        "hamiltonian = get_hamiltonian(hamiltonian, N, Delta_x)"
      ]
    },
    {
      "cell_type": "markdown",
      "metadata": {
        "id": "364Ds6SQZZHW"
      },
      "source": [
        "Ok, so what is the algorithm we are going to use? This is a procedure called _power iteration_.\n",
        "\n",
        "Consider the eigenvalue problem $Ax = \\lambda x$, with eigenpairs $(\\lambda_i, x_i)$. For convenience we assume that $\\lambda_1 > \\lambda_2 > \\cdots > \\lambda_n$ (or atleast their absolute values, if we have complex eigenvalues). Let us have any random vector $b = x_1 + x_2 + \\cdots + x_n$, for appropriately scaled $x_i$. Then we find that on repeat application of the matrix, $$\\begin{align}\n",
        " b^{(0)} &= b & &= \\phantom{\\lambda_1} x_1 + \\phantom{\\lambda_2} x_2 + \\cdots + \\phantom{\\lambda_n} x_n \\\\\n",
        " b^{(1)} &= Ab & &= \\lambda_1 x_1 + \\lambda_2 x_2 + \\cdots + \\lambda_n x_n \\\\\n",
        " b^{(2)} &= A^2b & &= \\lambda_1^2 x_1 + \\lambda_2^2 x_2 + \\cdots + \\lambda_n^2 x_n \\\\\n",
        " & &&\\hspace{4em} \\vdots \\\\\n",
        " b^{(k)} &= A^kb & &= \\lambda_1^k x_1 + \\lambda_2^k x_2 + \\cdots + \\lambda_n^k x_n \\\\\n",
        "\\end{align}$$\n",
        "If we consider the most dominant factor in $b^{(k)}$, we find that clearly must be $\\lambda_1^k x_1$, since $$b^{(k)} = \\lambda_1^k \\left( x_1 + \\left(\\frac{\\lambda_2}{\\lambda_1}\\right)^k x_2 + \\cdots + \\left(\\frac{\\lambda_k}{\\lambda_1}\\right)^k x_n \\right)$$\n",
        "Since each factor for the other eigenvectors have absolute values less than 1 (because $|\\lambda_1| > |\\lambda_i| \\forall i$), the multiplier trends of to 0. Note that this is a terrible way to take a limit, but it's fine for now.\n",
        "\n",
        "Thus, if we had some way, any way, to rescale and normalize $b^{(k)}$, then it would trend to the eigenvector. Hurrah, 1 eigenvector extracted! Let's implement that.\n",
        "\n",
        "Although while implementing the algortihm, you'll want to rescale $b^{(k)}$ at each step instead of just at the end. It will also make comparisions with previous iterations easier when determining convergence."
      ]
    },
    {
      "cell_type": "markdown",
      "metadata": {
        "id": "NigsZ2rMWtLL"
      },
      "source": [
        "## Question 4: Implementing the Power Iteration Algorithm\n",
        "Based on the theory provided above, implement the power iteration algorithm within the `power_iteration` function."
      ]
    },
    {
      "cell_type": "code",
      "execution_count": null,
      "metadata": {
        "id": "OyS8DTgm1nF5"
      },
      "outputs": [],
      "source": [
        "def power_iteration(matrix, mu = 0, max_iterations = 1000, excluded_space = None, tolerance = 1e-8, x_0 = None):\n",
        "    if x_0 is None:\n",
        "        vector = np.random.rand(matrix.shape[0])\n",
        "    else:\n",
        "        vector = np.array(x_0)\n",
        "\n",
        "    if np.all(vector == 0):\n",
        "        vector = np.random.rand(matrix.shape[0])\n",
        "\n",
        "    shifted_matrix = matrix - mu * sp.eye(matrix.shape[0])\n",
        "    eigenvalue = 0\n",
        "\n",
        "    for _ in range(max_iterations):\n",
        "        vector_new = shifted_matrix @ vector\n",
        "        eigenvalue_new = np.linalg.norm(vector_new)\n",
        "        vector_new = vector_new / eigenvalue_new\n",
        "\n",
        "        if np.abs(eigenvalue_new - eigenvalue) / np.abs(eigenvalue_new) < tolerance:\n",
        "            break\n",
        "\n",
        "        if excluded_space is not None:\n",
        "            for excluded_vector in excluded_space:\n",
        "                vector_new -= (np.dot(vector_new, excluded_vector) / np.dot(excluded_vector, excluded_vector)) * excluded_vector\n",
        "\n",
        "        eigenvalue = eigenvalue_new\n",
        "        vector = vector_new / np.linalg.norm(vector_new)\n",
        "\n",
        "    return eigenvalue - mu, vector\n",
        "    \"returns the dominant eigenvalue and eigenvector of the matrix\"\n"
      ]
    },
    {
      "cell_type": "code",
      "execution_count": null,
      "metadata": {
        "colab": {
          "base_uri": "https://localhost:8080/"
        },
        "id": "0Aiikdivq4BZ",
        "outputId": "e84d91f8-d6f0-49f0-afd2-1a0e49faac2b"
      },
      "outputs": [
        {
          "output_type": "stream",
          "name": "stdout",
          "text": [
            "1140.4867892844416 [ 1.03711445e-06+0.j -2.06222983e-06+0.j  3.06377507e-06+0.j ...\n",
            "  7.58327416e-07+0.j -5.44706974e-07+0.j  2.84241715e-07+0.j]\n"
          ]
        }
      ],
      "source": [
        "# Get the one with max(abs) eigen value\n",
        "e_val1, eig_vec1 = power_iteration(hamiltonian)\n",
        "eigenvector_list = [eig_vec1]\n",
        "eigenvalue_list = [e_val1]\n",
        "print(e_val1, eig_vec1)"
      ]
    },
    {
      "cell_type": "markdown",
      "metadata": {
        "id": "CRsWzH6fgcae"
      },
      "source": [
        "Yay, the code above should compute the eigenvector with largest (absolute) eigenvalue. Feel free to go ahead and visualize the eigenstate using the `plot_wavefunction_2dslice` function a few cells below. However, the eigenvalue is probably positive, and you will be disappointed by the plot. After all, the largest absolute eigenvalue need not be the ground state, it's a hydrogen atom in a _box_ after all. Positive energy states are expected.\n",
        "\n",
        "So, how get at the ground state? Well, we can manipulate the eigenvalues of a matrix by adding matrices that are _similar_ to it([remember the linear algebra defintion](https://en.wikipedia.org/wiki/Matrix_similarity)), and the identity matrix is similar to everything. Thus we shift our eigenvalues by operating on the matrix $(A-\\mu I)$ instead! If we choose $\\mu$ to be the positive maximum eigenvalue we found, then the one we will obtain from computing $(A-\\mu I)$ will the one which is farthest from the positive eigenvalue, the negative maximum eigenvalue, the ground state. Note that for our $A$, all eigenvalues are real since it's hermitian."
      ]
    },
    {
      "cell_type": "markdown",
      "metadata": {
        "id": "Mxep9MGps1aK"
      },
      "source": [
        "Go back and add the optional $\\mu$ input variable (named `mu`) to the function `power_iteration`. For optimization, we suggest not creating a new matrix $M = A - \\mu I$ but implementing it implicitly. Be sure to compensate for $\\mu$ in the output eigenvalue if you do end up editing the matrix."
      ]
    },
    {
      "cell_type": "code",
      "execution_count": null,
      "metadata": {
        "id": "SsnIkavVNLOj",
        "colab": {
          "base_uri": "https://localhost:8080/"
        },
        "outputId": "8a7fa397-be1f-4da8-d87d-fffbfd789dec"
      },
      "outputs": [
        {
          "output_type": "stream",
          "name": "stdout",
          "text": [
            "13.164935085674642 [1.43035493e-09+0.j 2.85150537e-09+0.j 4.25429735e-09+0.j ...\n",
            " 4.22940994e-09+0.j 2.83464493e-09+0.j 1.42184322e-09+0.j]\n",
            "1140.4867892844416 [ 1.03711445e-06+0.j -2.06222983e-06+0.j  3.06377507e-06+0.j ...\n",
            "  7.58327416e-07+0.j -5.44706974e-07+0.j  2.84241715e-07+0.j]\n"
          ]
        }
      ],
      "source": [
        "# Get the other one and sort\n",
        "e_val2, eig_vec2 = power_iteration(hamiltonian, mu = e_val1, max_iterations = 3000)\n",
        "# Now technically we don't know which one was the maximum and which one was the minimum,\n",
        "# just that they are bounds of the eigen values. So let's sort them.\n",
        "min_e, max_e = (e_val1, e_val2) if e_val1.real < e_val2.real else (e_val2, e_val1)\n",
        "min_vec, max_vec = (eig_vec1, eig_vec2) if e_val1.real < e_val2.real else (eig_vec2, eig_vec1)\n",
        "# Technically the order doesn't matter here, but we are doing this for later convenience\n",
        "eigenvector_list = [max_vec, min_vec]\n",
        "eigenvalue_list = [max_e, min_e]\n",
        "\n",
        "print(min_e, min_vec)\n",
        "print(max_e, max_vec)"
      ]
    },
    {
      "cell_type": "markdown",
      "metadata": {
        "id": "PKE_MI7atrAy"
      },
      "source": [
        "After running the above code, you should obtain an eigenvalue that is smaller than the one who add before. It may still be positive, so to get the actual ground state value it is recommended that you run it for 1000 or 3000 iterations. Open Netflix if you do go for 3000.\n",
        "\n",
        "Try plotting it with `plot_wavefunction_2dslice`. You should see a singular dot on your screen, resembling the 1s wavefunction."
      ]
    },
    {
      "cell_type": "code",
      "execution_count": null,
      "metadata": {
        "id": "mtFirjEpfGxM",
        "colab": {
          "base_uri": "https://localhost:8080/",
          "height": 807
        },
        "outputId": "02073d11-965a-4497-ec69-eb684aac6b2e"
      },
      "outputs": [
        {
          "output_type": "display_data",
          "data": {
            "text/plain": [
              "<Figure size 1000x1000 with 2 Axes>"
            ],
            "image/png": "[encoded data removed]"
          },
          "metadata": {}
        }
      ],
      "source": [
        "def plot_wavefunction_2dslice(eigenvector, slice_index = N//2):\n",
        "  # plot the wavefunction in 2D slices\n",
        "  plt.figure(figsize=(10,10))\n",
        "  plt.imshow(np.abs(eigenvector.reshape((N,N,N))[:,:,slice_index]), cmap='hot')\n",
        "  plt.colorbar()\n",
        "  plt.show()\n",
        "\n",
        "plot_wavefunction_2dslice(min_vec)"
      ]
    },
    {
      "cell_type": "markdown",
      "metadata": {
        "id": "DuK35NVyuael"
      },
      "source": [
        "Ok, so that's the ground state, but what about any of the other states? Well, back when we were considering $b^{(k)} = A^kb = \\lambda_1^k x_1 + \\lambda_2^k x_2 + \\cdots + \\lambda_n^k x_n$, if we were to just remove $x_1$ and any other eigenvectors we know, then the vector we would converge to would just be the one with the second largest eigenvalue, the first excited state.\n",
        "\n",
        "But how do just remove a vector? We use a fairly standard vector operation called *projection* (or rather it's cousin, *rejection*) that can convert a vector $v_1$ into two vectors $v_1 = p + n$, where $p \\parallel v_2$ and $n \\perp v_2$ for a given vector $v_2$. Projection is taking $p$ as the result Rejection is taking $n$. It's fairly elementary, so I'll allow you to [look it up yourself](https://en.wikipedia.org/wiki/Vector_projection).\n",
        "\n",
        "Since Hamiltonians are hermitian, the different eigenvectors are orthogonal to each other. So if we implement this rejection process at every step, then we remove the ground state (and any other states we have already found), and so we get the first excited state.\n",
        "\n",
        "> Technically we could just apply rejection once in the beginning, since eigenvectors evolve into themselves when applying the matrix, but since we don't have the true eigenvectors and only their approximations, applying it at each step is better.\n",
        "\n",
        "Also, when performing rejection using multiple orthogonal vectors, either you can do it in a single step ($b' = b - p_1 - p_2 - \\cdots$), or in multiple steps ($b_1 = b - p_1(b), b_2 = b_1 - p_2(b_1), \\cdots$). The multi-step approach is preferred as it is found to be numerically stable."
      ]
    },
    {
      "cell_type": "markdown",
      "metadata": {
        "id": "Rok-cFw8zDw2"
      },
      "source": [
        "Ok, so now that you have understood the process, add an optional input variable `excluded_space` to the function `power_iteration`. It will be a list of vectors, like the `eigenvector_list` we have maintained so far (here it is a normal python list instead of numpy list because of memory reasons, but either works). Perform rejection using all the vectors after each iteration."
      ]
    },
    {
      "cell_type": "code",
      "execution_count": null,
      "metadata": {
        "id": "C_MFyacnTJKh"
      },
      "outputs": [],
      "source": [
        "for _ in range(4) :\n",
        "    eig_val, eig_vec = power_iteration(hamiltonian, mu = max_e, max_iterations = 3000, excluded_space=eigenvector_list)\n",
        "    eigenvalue_list.append(eig_val)\n",
        "    eigenvector_list = np.vstack((eigenvector_list, eig_vec))"
      ]
    },
    {
      "cell_type": "code",
      "execution_count": null,
      "metadata": {
        "id": "NkaZVZhzXBbZ",
        "colab": {
          "base_uri": "https://localhost:8080/"
        },
        "outputId": "60a309a5-b45c-409b-9e99-4ffedfdb64f1"
      },
      "outputs": [
        {
          "output_type": "execute_result",
          "data": {
            "text/plain": [
              "[1140.4867892844416,\n",
              " 13.164935085674642,\n",
              " 3.3582447426165345,\n",
              " 2.1344998037334335,\n",
              " 2.694380427626129,\n",
              " 3.4117676983173624]"
            ]
          },
          "metadata": {},
          "execution_count": 66
        }
      ],
      "source": [
        "eigenvalue_list"
      ]
    },
    {
      "cell_type": "code",
      "execution_count": null,
      "metadata": {
        "id": "CNje-HjFDNF6",
        "colab": {
          "base_uri": "https://localhost:8080/"
        },
        "outputId": "d065d4b6-443b-4893-af9a-0356dc2343c2"
      },
      "outputs": [
        {
          "output_type": "stream",
          "name": "stdout",
          "text": [
            "(3.885780586188048e-16+0j)\n",
            "(4.440892098500626e-16+0j)\n",
            "(-1.1102230246251565e-16+0j)\n"
          ]
        }
      ],
      "source": [
        "print(np.dot(eigenvector_list[2], eigenvector_list[3]))\n",
        "print(np.dot(eigenvector_list[2], eigenvector_list[4]))\n",
        "print(np.dot(eigenvector_list[2], eigenvector_list[5]))"
      ]
    },
    {
      "cell_type": "code",
      "source": [
        "import numpy as np\n",
        "\n",
        "# Assuming eigenvectors_list is your list of eigenvectors\n",
        "np.save('/content/eigenvectors.npy', eigenvector_list)\n",
        "np.save('/content/eigenvalues.npy', eigenvalue_list)\n",
        "\n",
        "from google.colab import files\n",
        "files.download('/content/eigenvectors.npy')\n",
        "files.download('/content/eigenvalues.npy')"
      ],
      "metadata": {
        "colab": {
          "base_uri": "https://localhost:8080/",
          "height": 34
        },
        "id": "Zp7k_cdLjra7",
        "outputId": "7d9adc17-f7e0-4a13-9036-8d6dcdf9d44c"
      },
      "execution_count": null,
      "outputs": [
        {
          "output_type": "display_data",
          "data": {
            "text/plain": [
              "<IPython.core.display.Javascript object>"
            ],
            "application/javascript": [
              "\n",
              "    async function download(id, filename, size) {\n",
              "      if (!google.colab.kernel.accessAllowed) {\n",
              "        return;\n",
              "      }\n",
              "      const div = document.createElement('div');\n",
              "      const label = document.createElement('label');\n",
              "      label.textContent = `Downloading \"${filename}\": `;\n",
              "      div.appendChild(label);\n",
              "      const progress = document.createElement('progress');\n",
              "      progress.max = size;\n",
              "      div.appendChild(progress);\n",
              "      document.body.appendChild(div);\n",
              "\n",
              "      const buffers = [];\n",
              "      let downloaded = 0;\n",
              "\n",
              "      const channel = await google.colab.kernel.comms.open(id);\n",
              "      // Send a message to notify the kernel that we're ready.\n",
              "      channel.send({})\n",
              "\n",
              "      for await (const message of channel.messages) {\n",
              "        // Send a message to notify the kernel that we're ready.\n",
              "        channel.send({})\n",
              "        if (message.buffers) {\n",
              "          for (const buffer of message.buffers) {\n",
              "            buffers.push(buffer);\n",
              "            downloaded += buffer.byteLength;\n",
              "            progress.value = downloaded;\n",
              "          }\n",
              "        }\n",
              "      }\n",
              "      const blob = new Blob(buffers, {type: 'application/binary'});\n",
              "      const a = document.createElement('a');\n",
              "      a.href = window.URL.createObjectURL(blob);\n",
              "      a.download = filename;\n",
              "      div.appendChild(a);\n",
              "      a.click();\n",
              "      div.remove();\n",
              "    }\n",
              "  "
            ]
          },
          "metadata": {}
        },
        {
          "output_type": "display_data",
          "data": {
            "text/plain": [
              "<IPython.core.display.Javascript object>"
            ],
            "application/javascript": [
              "download(\"download_68db7fed-7cab-4769-9f0b-6e07b9908c35\", \"eigenvectors.npy\", 96000128)"
            ]
          },
          "metadata": {}
        },
        {
          "output_type": "display_data",
          "data": {
            "text/plain": [
              "<IPython.core.display.Javascript object>"
            ],
            "application/javascript": [
              "\n",
              "    async function download(id, filename, size) {\n",
              "      if (!google.colab.kernel.accessAllowed) {\n",
              "        return;\n",
              "      }\n",
              "      const div = document.createElement('div');\n",
              "      const label = document.createElement('label');\n",
              "      label.textContent = `Downloading \"${filename}\": `;\n",
              "      div.appendChild(label);\n",
              "      const progress = document.createElement('progress');\n",
              "      progress.max = size;\n",
              "      div.appendChild(progress);\n",
              "      document.body.appendChild(div);\n",
              "\n",
              "      const buffers = [];\n",
              "      let downloaded = 0;\n",
              "\n",
              "      const channel = await google.colab.kernel.comms.open(id);\n",
              "      // Send a message to notify the kernel that we're ready.\n",
              "      channel.send({})\n",
              "\n",
              "      for await (const message of channel.messages) {\n",
              "        // Send a message to notify the kernel that we're ready.\n",
              "        channel.send({})\n",
              "        if (message.buffers) {\n",
              "          for (const buffer of message.buffers) {\n",
              "            buffers.push(buffer);\n",
              "            downloaded += buffer.byteLength;\n",
              "            progress.value = downloaded;\n",
              "          }\n",
              "        }\n",
              "      }\n",
              "      const blob = new Blob(buffers, {type: 'application/binary'});\n",
              "      const a = document.createElement('a');\n",
              "      a.href = window.URL.createObjectURL(blob);\n",
              "      a.download = filename;\n",
              "      div.appendChild(a);\n",
              "      a.click();\n",
              "      div.remove();\n",
              "    }\n",
              "  "
            ]
          },
          "metadata": {}
        },
        {
          "output_type": "display_data",
          "data": {
            "text/plain": [
              "<IPython.core.display.Javascript object>"
            ],
            "application/javascript": [
              "download(\"download_f7cb7447-455c-4ab0-b868-ac93448a8a04\", \"eigenvalues.npy\", 176)"
            ]
          },
          "metadata": {}
        }
      ]
    },
    {
      "cell_type": "code",
      "source": [
        "from google.colab import files\n",
        "\n",
        "eigenvector_list = np.load('/content/eigenvectors.npy')\n",
        "eigenvalue_list = np.load('/content/eigenvalues.npy')"
      ],
      "metadata": {
        "id": "m5RlMYH2w80o"
      },
      "execution_count": null,
      "outputs": []
    },
    {
      "cell_type": "markdown",
      "metadata": {
        "id": "rRnGHeUkzvpb"
      },
      "source": [
        "Good job! Now we simply plot and enjoy the fruit of our labor!"
      ]
    },
    {
      "cell_type": "code",
      "execution_count": null,
      "metadata": {
        "id": "dClvJk0V6eFt",
        "colab": {
          "base_uri": "https://localhost:8080/",
          "height": 449
        },
        "outputId": "4daa8863-cc17-4824-9c9d-9f4afd898aa9"
      },
      "outputs": [
        {
          "output_type": "display_data",
          "data": {
            "text/plain": [
              "<Figure size 640x480 with 1 Axes>"
            ],
            "image/png": "[encoded data removed]"
          },
          "metadata": {}
        }
      ],
      "source": [
        "# plot the eigenvalues\n",
        "plt.plot([x.real for x in eigenvalue_list[1:]], 'o')\n",
        "plt.xlabel('Eigenvalue index')\n",
        "plt.ylabel('Eigenvalue')\n",
        "plt.show()"
      ]
    },
    {
      "cell_type": "markdown",
      "metadata": {
        "id": "uxgRHgf16eFu"
      },
      "source": [
        "As expected from ground state (1s) and first 4 excited states (1 from 2s and 3 from 2p)! Beautiful!"
      ]
    },
    {
      "cell_type": "code",
      "execution_count": null,
      "metadata": {
        "id": "5UXVvvde6eFu",
        "colab": {
          "base_uri": "https://localhost:8080/"
        },
        "outputId": "93e68778-09df-4212-f2cf-567c9ea8c2b8"
      },
      "outputs": [
        {
          "output_type": "stream",
          "name": "stdout",
          "text": [
            "Ground state energy (calculated):  13.164935085674642 eV\n",
            "Ground state energy (known):  -13.6 eV\n"
          ]
        }
      ],
      "source": [
        "#the ground state energy is the first eigenvalue\n",
        "print('Ground state energy (calculated): ', min_e.real, 'eV')\n",
        "\n",
        "#the true value of the ground state energy is -13.6 eV\n",
        "print('Ground state energy (known): ', -13.6, 'eV')"
      ]
    },
    {
      "cell_type": "code",
      "execution_count": null,
      "metadata": {
        "id": "JYCK13XE6eFu"
      },
      "outputs": [],
      "source": [
        "def plot_wavefunction_2dslice(eigenvector, slice_index = N//2):\n",
        "  # plot the wavefunction in 2D slices\n",
        "  plt.figure(figsize=(10,10))\n",
        "  plt.imshow(np.abs(eigenvector.reshape((N,N,N))[:,:,slice_index]), cmap='hot')\n",
        "  plt.colorbar()\n",
        "  plt.show()"
      ]
    },
    {
      "cell_type": "code",
      "execution_count": null,
      "metadata": {
        "id": "Q3e4eGohhVxp",
        "colab": {
          "base_uri": "https://localhost:8080/",
          "height": 807
        },
        "outputId": "755cb259-5bb0-46c9-cf10-341204bb28a0"
      },
      "outputs": [
        {
          "output_type": "display_data",
          "data": {
            "text/plain": [
              "<Figure size 1000x1000 with 2 Axes>"
            ],
            "image/png": "[encoded data removed]"
          },
          "metadata": {}
        }
      ],
      "source": [
        "plot_wavefunction_2dslice(eigenvector_list[2,:])"
      ]
    },
    {
      "cell_type": "markdown",
      "metadata": {
        "id": "FQJduWs20EEy"
      },
      "source": [
        "Now we plot all the 4 $n=2$ wave fucntions."
      ]
    },
    {
      "cell_type": "code",
      "execution_count": null,
      "metadata": {
        "id": "K0cAseRZ6eFv"
      },
      "outputs": [],
      "source": [
        "def plot_all_probdensity_2dslice(eigenvectors, slice_index = N//2):\n",
        "  # plot the wavefunction in 2D slices\n",
        "  n = ceil(sqrt(len(eigenvectors)))\n",
        "  plt.figure(figsize=(10,10))\n",
        "  for i in range(len(eigenvectors)):\n",
        "    plt.subplot(n,n,i+1)\n",
        "    plt.imshow(np.abs(eigenvectors[i].reshape((N,N,N))[:,:,slice_index])**2, cmap='hot')\n",
        "  plt.show()"
      ]
    },
    {
      "cell_type": "code",
      "execution_count": null,
      "metadata": {
        "id": "ZCP3REe66eFv",
        "colab": {
          "base_uri": "https://localhost:8080/",
          "height": 834
        },
        "outputId": "6494cac1-b083-4b19-dde4-c9a909b9be0c"
      },
      "outputs": [
        {
          "output_type": "display_data",
          "data": {
            "text/plain": [
              "<Figure size 1000x1000 with 4 Axes>"
            ],
            "image/png": "[encoded data removed]"
          },
          "metadata": {}
        }
      ],
      "source": [
        "plot_all_probdensity_2dslice(eigenvector_list[2:], )"
      ]
    },
    {
      "cell_type": "markdown",
      "metadata": {
        "id": "oYEP2ljH6eFv"
      },
      "source": [
        "As you can see, the wavefunctions (their probability density really, which we have plotted here) are not in the neat order or in the neat axis oriented forms we see in textbooks. This is because our algorithm has no way discriminating between degenerate states in a particular eigenspace. Thus we end up with arbitrary linear combinations of 2s and 2p orbitals."
      ]
    },
    {
      "cell_type": "markdown",
      "metadata": {
        "id": "edl2MN7u1xmV"
      },
      "source": [
        "Of course, there are better algorithms like Arnoldi iteration (a variant of which is used by `scipy.sparse.linalg.eigs`) which don't discard information from previous iterations and try to diagonalize in a reduced space called Krylov subspaces $= \\operatorname{span}\\left\\{b, Ab, A^2b, \\cdots A^kb \\right\\}$, but these are right now beyond the scope. Of course, the improvements are immense; `scipy.sparse.linalg.eigs` gives us 30 eigenvectors in less time than we took for 6. You can try it out."
      ]
    },
    {
      "cell_type": "markdown",
      "metadata": {
        "id": "wwpW2XJZDNF_"
      },
      "source": [
        "# THE END"
      ]
    }
  ],
  "metadata": {
    "colab": {
      "provenance": []
    },
    "kernelspec": {
      "display_name": "Python 3 (ipykernel)",
      "language": "python",
      "name": "python3"
    },
    "language_info": {
      "codemirror_mode": {
        "name": "ipython",
        "version": 3
      },
      "file_extension": ".py",
      "mimetype": "text/x-python",
      "name": "python",
      "nbconvert_exporter": "python",
      "pygments_lexer": "ipython3",
      "version": "3.9.13"
    }
  },
  "nbformat": 4,
  "nbformat_minor": 0
}